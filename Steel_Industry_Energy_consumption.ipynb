{
  "cells": [
    {
      "cell_type": "markdown",
      "metadata": {
        "id": "view-in-github",
        "colab_type": "text"
      },
      "source": [
        "<a href=\"https://colab.research.google.com/github/Pdaret/Steel-Industry-Energy-Consumption/blob/main/Steel_Industry_Energy_consumption.ipynb\" target=\"_parent\"><img src=\"https://colab.research.google.com/assets/colab-badge.svg\" alt=\"Open In Colab\"/></a>"
      ]
    },
    {
      "cell_type": "markdown",
      "metadata": {
        "id": "9Lpi73S_sUpr"
      },
      "source": [
        "# **[Steel Industry Energy Consumption](https://www.kaggle.com/datasets/csafrit2/steel-industry-energy-consumption)**\n",
        "### *<font color='blue'>Energy Usage prediction</font>\n",
        "\n",
        " in this project we want to train a model to predict the <font color='green'>Energy Usage</font> of Steel Industry Based on its Dataset."
      ]
    },
    {
      "cell_type": "markdown",
      "source": [
        "# Data Preparation"
      ],
      "metadata": {
        "id": "lVQE4si1PYGw"
      }
    },
    {
      "cell_type": "code",
      "source": [],
      "metadata": {
        "id": "xWVYAUZvQdit"
      },
      "execution_count": null,
      "outputs": []
    },
    {
      "cell_type": "markdown",
      "source": [
        "# Exploratory Data Analysis"
      ],
      "metadata": {
        "id": "PwQz2C7wP1Im"
      }
    },
    {
      "cell_type": "code",
      "source": [],
      "metadata": {
        "id": "kgr7UTZRP4FM"
      },
      "execution_count": null,
      "outputs": []
    },
    {
      "cell_type": "markdown",
      "source": [
        "# Pre-Model "
      ],
      "metadata": {
        "id": "4pJmXpwqP4cj"
      }
    },
    {
      "cell_type": "code",
      "source": [],
      "metadata": {
        "id": "P9hKkb8DQGiF"
      },
      "execution_count": null,
      "outputs": []
    },
    {
      "cell_type": "markdown",
      "source": [
        "# Modeling (Linear Regression)"
      ],
      "metadata": {
        "id": "J5eQNOw0QG7x"
      }
    },
    {
      "cell_type": "code",
      "source": [],
      "metadata": {
        "id": "_Ytlx9X0Qea2"
      },
      "execution_count": null,
      "outputs": []
    },
    {
      "cell_type": "markdown",
      "source": [
        "# Model Evaluation"
      ],
      "metadata": {
        "id": "CB1ukIDUQX_D"
      }
    },
    {
      "cell_type": "code",
      "source": [],
      "metadata": {
        "id": "HDbm1teJQNsG"
      },
      "execution_count": null,
      "outputs": []
    }
  ],
  "metadata": {
    "colab": {
      "provenance": [],
      "toc_visible": true,
      "include_colab_link": true
    },
    "kernelspec": {
      "display_name": "Python 3",
      "name": "python3"
    },
    "language_info": {
      "name": "python"
    }
  },
  "nbformat": 4,
  "nbformat_minor": 0
}